{
  "nbformat": 4,
  "nbformat_minor": 0,
  "metadata": {
    "colab": {
      "provenance": [],
      "authorship_tag": "ABX9TyNqOj5wGhSGIu/xMoCqZit8",
      "include_colab_link": true
    },
    "kernelspec": {
      "name": "python3",
      "display_name": "Python 3"
    },
    "language_info": {
      "name": "python"
    }
  },
  "cells": [
    {
      "cell_type": "markdown",
      "metadata": {
        "id": "view-in-github",
        "colab_type": "text"
      },
      "source": [
        "<a href=\"https://colab.research.google.com/github/kiroVal/Syllabi-Verification-Py-Model/blob/GoogleCollab/Tesseract_OCR.ipynb\" target=\"_parent\"><img src=\"https://colab.research.google.com/assets/colab-badge.svg\" alt=\"Open In Colab\"/></a>"
      ]
    },
    {
      "cell_type": "code",
      "metadata": {
        "colab": {
          "base_uri": "https://localhost:8080/"
        },
        "id": "89af709c",
        "outputId": "8b5869e0-62e9-44b1-dc31-f1eb37b2fcbe"
      },
      "source": [
        "# Install tesseract\n",
        "!sudo apt update\n",
        "!sudo apt install tesseract-ocr -y"
      ],
      "execution_count": null,
      "outputs": [
        {
          "output_type": "stream",
          "name": "stdout",
          "text": [
            "Get:1 http://security.ubuntu.com/ubuntu jammy-security InRelease [129 kB]\n",
            "Get:2 https://cloud.r-project.org/bin/linux/ubuntu jammy-cran40/ InRelease [3,632 B]\n",
            "Get:3 https://developer.download.nvidia.com/compute/cuda/repos/ubuntu2204/x86_64  InRelease [1,581 B]\n",
            "Get:4 https://r2u.stat.illinois.edu/ubuntu jammy InRelease [6,555 B]\n",
            "Hit:5 http://archive.ubuntu.com/ubuntu jammy InRelease\n",
            "Get:6 http://archive.ubuntu.com/ubuntu jammy-updates InRelease [128 kB]\n",
            "Get:7 http://security.ubuntu.com/ubuntu jammy-security/universe amd64 Packages [1,270 kB]\n",
            "Get:8 https://developer.download.nvidia.com/compute/cuda/repos/ubuntu2204/x86_64  Packages [1,853 kB]\n",
            "Get:9 http://security.ubuntu.com/ubuntu jammy-security/restricted amd64 Packages [5,103 kB]\n",
            "Get:10 http://archive.ubuntu.com/ubuntu jammy-backports InRelease [127 kB]\n",
            "Get:11 http://security.ubuntu.com/ubuntu jammy-security/main amd64 Packages [3,207 kB]\n",
            "Get:12 https://r2u.stat.illinois.edu/ubuntu jammy/main all Packages [9,161 kB]\n",
            "Hit:13 https://ppa.launchpadcontent.net/deadsnakes/ppa/ubuntu jammy InRelease\n",
            "Hit:14 https://ppa.launchpadcontent.net/graphics-drivers/ppa/ubuntu jammy InRelease\n",
            "Hit:15 https://ppa.launchpadcontent.net/ubuntugis/ppa/ubuntu jammy InRelease\n",
            "Get:16 https://r2u.stat.illinois.edu/ubuntu jammy/main amd64 Packages [2,773 kB]\n",
            "Get:17 http://archive.ubuntu.com/ubuntu jammy-updates/main amd64 Packages [3,518 kB]\n",
            "Get:18 http://archive.ubuntu.com/ubuntu jammy-updates/restricted amd64 Packages [5,290 kB]\n",
            "Get:19 http://archive.ubuntu.com/ubuntu jammy-updates/universe amd64 Packages [1,575 kB]\n",
            "Fetched 34.1 MB in 6s (5,683 kB/s)\n",
            "Reading package lists... Done\n",
            "Building dependency tree... Done\n",
            "Reading state information... Done\n",
            "36 packages can be upgraded. Run 'apt list --upgradable' to see them.\n",
            "\u001b[1;33mW: \u001b[0mSkipping acquire of configured file 'main/source/Sources' as repository 'https://r2u.stat.illinois.edu/ubuntu jammy InRelease' does not seem to provide it (sources.list entry misspelt?)\u001b[0m\n",
            "Reading package lists... Done\n",
            "Building dependency tree... Done\n",
            "Reading state information... Done\n",
            "tesseract-ocr is already the newest version (4.1.1-2.1build1).\n",
            "0 upgraded, 0 newly installed, 0 to remove and 36 not upgraded.\n"
          ]
        }
      ]
    },
    {
      "cell_type": "code",
      "metadata": {
        "colab": {
          "base_uri": "https://localhost:8080/"
        },
        "id": "cb3d8c82",
        "outputId": "034a0d31-a96d-424c-ce65-8042410019f6"
      },
      "source": [
        "# Install pytesseract\n",
        "!pip install pytesseract"
      ],
      "execution_count": null,
      "outputs": [
        {
          "output_type": "stream",
          "name": "stdout",
          "text": [
            "Collecting pytesseract\n",
            "  Downloading pytesseract-0.3.13-py3-none-any.whl.metadata (11 kB)\n",
            "Requirement already satisfied: packaging>=21.3 in /usr/local/lib/python3.11/dist-packages (from pytesseract) (25.0)\n",
            "Requirement already satisfied: Pillow>=8.0.0 in /usr/local/lib/python3.11/dist-packages (from pytesseract) (11.3.0)\n",
            "Downloading pytesseract-0.3.13-py3-none-any.whl (14 kB)\n",
            "Installing collected packages: pytesseract\n",
            "Successfully installed pytesseract-0.3.13\n"
          ]
        }
      ]
    },
    {
      "cell_type": "code",
      "metadata": {
        "colab": {
          "base_uri": "https://localhost:8080/"
        },
        "id": "bb4b15de",
        "outputId": "32f4a481-6d00-47c6-b4e2-1307ecbdc983"
      },
      "source": [
        "# Install pdfminer.six\n",
        "!pip install pdfminer.six"
      ],
      "execution_count": null,
      "outputs": [
        {
          "output_type": "stream",
          "name": "stdout",
          "text": [
            "Collecting pdfminer.six\n",
            "  Downloading pdfminer_six-20250506-py3-none-any.whl.metadata (4.2 kB)\n",
            "Requirement already satisfied: charset-normalizer>=2.0.0 in /usr/local/lib/python3.11/dist-packages (from pdfminer.six) (3.4.2)\n",
            "Requirement already satisfied: cryptography>=36.0.0 in /usr/local/lib/python3.11/dist-packages (from pdfminer.six) (43.0.3)\n",
            "Requirement already satisfied: cffi>=1.12 in /usr/local/lib/python3.11/dist-packages (from cryptography>=36.0.0->pdfminer.six) (1.17.1)\n",
            "Requirement already satisfied: pycparser in /usr/local/lib/python3.11/dist-packages (from cffi>=1.12->cryptography>=36.0.0->pdfminer.six) (2.22)\n",
            "Downloading pdfminer_six-20250506-py3-none-any.whl (5.6 MB)\n",
            "\u001b[2K   \u001b[90m━━━━━━━━━━━━━━━━━━━━━━━━━━━━━━━━━━━━━━━━\u001b[0m \u001b[32m5.6/5.6 MB\u001b[0m \u001b[31m41.0 MB/s\u001b[0m eta \u001b[36m0:00:00\u001b[0m\n",
            "\u001b[?25hInstalling collected packages: pdfminer.six\n",
            "Successfully installed pdfminer.six-20250506\n"
          ]
        }
      ]
    },
    {
      "cell_type": "code",
      "metadata": {
        "colab": {
          "base_uri": "https://localhost:8080/"
        },
        "id": "f1f4c858",
        "outputId": "299d2a63-8ff0-4de3-f440-2f2c02303933"
      },
      "source": [
        "import pytesseract\n",
        "from pdfminer.high_level import extract_pages\n",
        "from pdfminer.layout import LTImage\n",
        "from PIL import Image\n",
        "\n",
        "def ocr_pdf(pdf_path, page_number=None):\n",
        "    \"\"\"\n",
        "    Performs OCR on a PDF file and returns the extracted text from a specific page.\n",
        "\n",
        "    Args:\n",
        "        pdf_path (str): The path to the PDF file.\n",
        "        page_number (int, optional): The specific page number to extract text from (1-based index).\n",
        "                                     If None, extracts text from all pages (current behavior).\n",
        "\n",
        "    Returns:\n",
        "        str: The extracted text from the specified page or the entire PDF.\n",
        "    \"\"\"\n",
        "    extracted_text = \"\"\n",
        "    # Adjust page number for 0-based index used by extract_pages\n",
        "    pages_to_process = [page_number - 1] if page_number is not None and page_number > 0 else None\n",
        "\n",
        "    for page_layout in extract_pages(pdf_path, page_numbers=pages_to_process):\n",
        "        for element in page_layout:\n",
        "            if isinstance(element, LTImage):\n",
        "                # For images within the PDF, you might need to extract and save them\n",
        "                # temporarily to perform OCR. This is a simplified example.\n",
        "                # A more robust solution would involve handling image extraction properly.\n",
        "                print(\"Found an image. OCR on images within PDFs is not directly supported in this simplified example.\")\n",
        "            else:\n",
        "                # Attempt to extract text from text elements\n",
        "                if hasattr(element, 'get_text'):\n",
        "                    extracted_text += element.get_text()\n",
        "\n",
        "    # Note: This is a basic text extraction. For comprehensive OCR on scanned PDFs\n",
        "    # with images, you would need to convert each PDF page to an image first\n",
        "    # and then apply pytesseract to the image.\n",
        "\n",
        "    # Example of how you would process an image if you were to convert a page:\n",
        "    # from pdf2image import convert_from_path\n",
        "    # images = convert_from_path(pdf_path)\n",
        "    # for img in images:\n",
        "    #     extracted_text += pytesseract.image_to_string(img)\n",
        "\n",
        "    # For demonstration with text-based PDFs or partially scanned PDFs,\n",
        "    # we'll rely on the basic text extraction from pdfminer.six first.\n",
        "    # If your PDF is purely scanned images, you'll need the pdf2image step.\n",
        "\n",
        "    return extracted_text\n",
        "\n",
        "# Example usage (assuming you have a PDF file named 'testSyllabus.pdf' in the /content/sample_data directory)\n",
        "pdf_file_path = '/content/sample_data/testSyllabus.pdf'\n",
        "text_from_pdf = ocr_pdf(pdf_file_path, page_number=7)\n",
        "print(text_from_pdf)"
      ],
      "execution_count": null,
      "outputs": [
        {
          "output_type": "stream",
          "name": "stdout",
          "text": [
            "COURSE OUTLINE [Sample only] \n",
            "Week \n",
            "Topics \n",
            "Learning \n",
            "Activities \n",
            "1 \n",
            "2 \n",
            "Lecture \n",
            "Showcase \n",
            "MNSTDEV \n",
            "projects \n",
            "•  Course Outline/ \n",
            "House Rules \n",
            "•  Presentation of \n",
            "MNSTDEV projects \n",
            "•  Introduction to the \n",
            "Project Wiki \n",
            "•  Review of the Agile \n",
            "Mindset and the \n",
            "Scrum \n",
            "Methodology \n",
            "•  Overview of \n",
            "Systems Analysis \n",
            "and Design \n",
            "Lecture \n",
            "Demo \n",
            "•  Version Controls \n",
            "and the MVC \n",
            "framework \n",
            "•  Introduction to \n",
            "GitHub \n",
            "•  Significance of \n",
            "using GitHub for \n",
            "projects \n",
            "•  Features and \n",
            "functionalities of \n",
            "GitHub \n",
            "Learning Outcomes (LO) / \n",
            "Learner and Learning \n",
            "Outcomes (LLO) \n",
            "•  Examine the specifications of \n",
            "the course learning outputs, \n",
            "and their corresponding \n",
            "rubrics. \n",
            "•  Improve the MNSTDEV \n",
            "project wiki and initiate \n",
            "development of the \n",
            "MSYADD1 project wiki. \n",
            "•  Summarize project team \n",
            "composition (members, \n",
            "advisers, consultants). \n",
            "•  Explain the systems and \n",
            "analysis design phase of the \n",
            "SDLC: its requirements and \n",
            "outputs. \n",
            "•  Recall and explain the \n",
            "characteristics of the agile \n",
            "methodology and the Agile \n",
            "Manifesto. \n",
            "•  Explain the MVC framework \n",
            "and relate your projects. \n",
            "•  Apply the features and \n",
            "functionalities of GitHub. \n",
            "CO / CLO \n",
            "Aligned to \n",
            "Instructional \n",
            "Materials \n",
            "Deliverables/ \n",
            "Outcomes \n",
            "Assessment \n",
            "C1 \n",
            "Class Orientation \n",
            "Slides \n",
            "APC Handbook \n",
            "Course Syllabus \n",
            "Projects Wiki \n",
            "Agile foundations \n",
            "Project Wiki \n",
            "Page \n",
            "MS Teams \n",
            "group \n",
            "channel \n",
            "MNSTDEV \n",
            "Project \n",
            "Review \n",
            "Slides on MVC \n",
            "LinkedIn Learning \n",
            "videos on GitHub \n",
            "Infographic \n",
            "LinkedIn \n",
            "Learning \n",
            "Certificate \n",
            "Infographic \n",
            "Short quiz \n",
            "….. \n",
            "•  …… \n",
            "……. \n",
            "•  ….. \n",
            "….. \n",
            "…… \n",
            "…… \n",
            "NOTE: The faculty member must ensure that the learning outcomes, teaching methods used (teaching and learning \n",
            "activities) and the assessment activities are aligned\n",
            "School of Computing and Information Technologies \n",
            "Page 7 of 9 \n",
            " \n",
            " \n",
            " \n",
            " \n",
            " \n",
            " \n",
            "\n"
          ]
        }
      ]
    }
  ]
}