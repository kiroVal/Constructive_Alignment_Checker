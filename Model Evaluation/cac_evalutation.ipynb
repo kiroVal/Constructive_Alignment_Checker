{
 "cells": [
  {
   "cell_type": "code",
   "execution_count": null,
   "id": "ae9d7ab7",
   "metadata": {
    "vscode": {
     "languageId": "plaintext"
    }
   },
   "outputs": [],
   "source": [
    "# Calculate scores\n",
    "df['Semantic Score'] = df['Semantic Alignment'].apply(lambda x: 1 if x == 'Aligned' else 0)\n",
    "df['Bloom Score'] = df['Bloom Alignment'].apply(lambda x: 1 if x == 'Aligned' else 0)\n",
    "\n",
    "df['Total Score'] = df['Semantic Score'] + df['Bloom Score']\n",
    "df['Percentage Score (%)'] = (df['Total Score'] / 2) * 100\n",
    "\n",
    "# Calculate weighted scores\n",
    "df['Weighted Score'] = (df['Semantic Score'] * 0.4) + (df['Bloom Score'] * 0.6)"
   ]
  },
  {
   "cell_type": "code",
   "execution_count": null,
   "id": "e15963a4",
   "metadata": {
    "vscode": {
     "languageId": "plaintext"
    }
   },
   "outputs": [],
   "source": [
    "def generate_feedback(row):\n",
    "    semantic_aligned = row['Semantic Alignment'] == 'Aligned'\n",
    "    bloom_aligned = row['Bloom Alignment'] == 'Aligned'\n",
    "    overall_aligned = row['Overall Final Alignment'] == 'Aligned'\n",
    "\n",
    "    if semantic_aligned and not bloom_aligned:\n",
    "        return \"Conceptually aligned, but the cognitive level may not match the intended learning outcomes. Consider revising verbs or assessment methods.\"\n",
    "    elif not semantic_aligned and bloom_aligned:\n",
    "        return \"Cognitive level is appropriate, but the content may not be semantically connected. Review the relevance of deliverables and assessments.\"\n",
    "    elif not semantic_aligned and not bloom_aligned:\n",
    "        return \"Neither semantic nor cognitive alignment is achieved. Reevaluate both the content and the learning level.\"\n",
    "    elif semantic_aligned and bloom_aligned and not overall_aligned:\n",
    "         return \"Individual components are aligned, but the overall integration may be lacking. Check for consistency across outcomes, deliverables, and assessments.\"\n",
    "    else:\n",
    "        return \"Semantic and Bloom's Taxonomy alignment achieved. Overall alignment is also good.\"\n",
    "\n",
    "df['Feedback'] = df.apply(generate_feedback, axis=1)\n",
    "\n",
    "display(df[['Learning Outcomes', 'Deliverables', 'Assessments', 'Semantic Alignment', 'Bloom Alignment', 'Overall Final Alignment', 'Semantic Score', 'Bloom Score', 'Total Score', 'Percentage Score (%)', 'Weighted Score', 'Feedback']])"
   ]
  }
 ],
 "metadata": {
  "language_info": {
   "name": "python"
  }
 },
 "nbformat": 4,
 "nbformat_minor": 5
}
